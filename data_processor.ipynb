{
 "cells": [
  {
   "cell_type": "code",
   "execution_count": 1,
   "id": "398bd1e6",
   "metadata": {},
   "outputs": [],
   "source": [
    "import requests\n",
    "from bs4 import BeautifulSoup as bs\n",
    "import pandas as pd\n",
    "import re\n",
    "from utility_functions import get_date\n",
    "from datetime import date, datetime, timedelta\n",
    "from dateutil.parser import parse"
   ]
  },
  {
   "cell_type": "code",
   "execution_count": 2,
   "id": "2c780625",
   "metadata": {},
   "outputs": [],
   "source": [
    "#collect & process data based on GAME ID\n",
    "url = \"https://www.espn.com/mens-college-basketball/matchup?gameId=\" + str(401377407)\n",
    "r = requests.get(url)\n",
    "webpage = bs(r.content, features=\"html.parser\")"
   ]
  },
  {
   "cell_type": "code",
   "execution_count": null,
   "id": "fbc41cc6",
   "metadata": {},
   "outputs": [],
   "source": [
    "#create dictionary for CAL & opponent with respective scores\n",
    "team_name = [name.string for name in webpage.find_all(\"td\", attrs={\"class\", \"team-name\"})]\n",
    "score = [float(final_score.string) for final_score in webpage.find_all(\"td\", attrs={\"class\", \"final-score\"})]\n",
    "\n",
    "team_score = dict(zip(team_name, score))\n",
    "\n",
    "#determine opponent\n",
    "for team in team_name:\n",
    "    if team != \"CAL\":\n",
    "        opponent = team"
   ]
  },
  {
   "cell_type": "code",
   "execution_count": null,
   "id": "ad159119",
   "metadata": {},
   "outputs": [],
   "source": [
    "#locate table for main data regarding game\n",
    "table = webpage.select(\"table.mod-data\")[0]\n",
    "\n",
    "#create column_names and locate the rows of the table\n",
    "\n",
    "column_names = (list(team_score.keys()))\n",
    "#columns = table.find_all(\"td\", string=re.compile(\"[A-Za-z%]+\"))\n",
    "#column_names = [c.get_text().strip() for c in columns]\n",
    "\n",
    "table_rows = table.find(\"tbody\").find_all(\"tr\")\n",
    "\n",
    "#accumulate all the table_rows into one list\n",
    "row_names, l = [], []\n",
    "for tr in table_rows:\n",
    "    td = tr.find_all(\"td\")\n",
    "    #row: [STAT_NAME, NUM1, NUM2]\n",
    "    row = [tr.get_text().strip() for tr in td]\n",
    "    #.append([NUM1, NUM2])\n",
    "    l.append(row[1:])\n",
    "    #.append([STAT_NAME])\n",
    "    row_names.append(row[0])"
   ]
  },
  {
   "cell_type": "code",
   "execution_count": null,
   "id": "7bbc2dc6",
   "metadata": {},
   "outputs": [],
   "source": [
    "#create data table with column_names and rows within table.mod-data\n",
    "df = pd.DataFrame(l, columns=column_names)"
   ]
  },
  {
   "cell_type": "code",
   "execution_count": null,
   "id": "eacd773e",
   "metadata": {},
   "outputs": [],
   "source": [
    "#searches a string with - and seperates elements from either side into a list\n",
    "def try_convert(val): \n",
    "    hyphen_index = val.index(\"-\")\n",
    "    return [val[:hyphen_index], val[hyphen_index + 1:]]\n",
    "\n",
    "#append new rows for FGA, FGM, 3PTA, 3PTM, FTA, FTM for later calculations in MAKES-ATTEMPT format\n",
    "for index in df.index:\n",
    "    if re.search(\"-\", df.loc[index, \"CAL\"]) and re.search(\"-\", df.loc[index, opponent]):\n",
    "        #multiple assignment with try_convert to extract attempts and makes \n",
    "        makes_cal, att_cal = try_convert(df.loc[index, \"CAL\"])[0], try_convert(df.loc[index, \"CAL\"])[1]\n",
    "        makes_opp, att_opp = try_convert(df.loc[index, opponent])[0], try_convert(df.loc[index, opponent])[1]\n",
    "        \n",
    "        #assigns current row with makes\n",
    "        df.loc[index, \"CAL\"], df.loc[index, opponent] = makes_cal, makes_opp\n",
    "    \n",
    "        #append new row with attempts, increasing index to reorder later\n",
    "        df2 = pd.DataFrame({'CAL': att_cal, opponent: att_opp}, index=[index + .1])\n",
    "        df = df.append(df2, ignore_index = False)"
   ]
  },
  {
   "cell_type": "code",
   "execution_count": null,
   "id": "7b6cd90e",
   "metadata": {},
   "outputs": [],
   "source": [
    "#reorder rows with increasing index\n",
    "df = df.sort_index().reset_index(drop=True)\n",
    "\n",
    "#adds FGA, FGM, 3PTA, 3PTM, FTA, FTM row names\n",
    "row = []\n",
    "def add_makes_att(lst, new_lst):\n",
    "    for stat in lst:\n",
    "        if re.search(\"FG|3PT|FT\", stat):\n",
    "            new_lst.append(stat + \"M\")\n",
    "            new_lst.append(stat +\"A\")\n",
    "        else:\n",
    "            new_lst.append(stat)\n",
    "    return new_lst\n",
    "\n",
    "row_names = add_makes_att(row_names, row)\n",
    "\n",
    "#set row indexes as STAT_NAME within row\n",
    "df.index = row_names"
   ]
  },
  {
   "cell_type": "code",
   "execution_count": null,
   "id": "72f2961f",
   "metadata": {},
   "outputs": [],
   "source": [
    "#turns all stats into float, tranpose matrix\n",
    "df[\"CAL\"] = pd.to_numeric(df[\"CAL\"], downcast=\"float\")\n",
    "df[opponent] = pd.to_numeric(df[opponent], downcast=\"float\")\n",
    "df = df.T\n",
    "df"
   ]
  },
  {
   "cell_type": "code",
   "execution_count": null,
   "id": "1fb7c257",
   "metadata": {},
   "outputs": [],
   "source": [
    "#calculates +/-\n",
    "def net(cal, opp):\n",
    "    if cal - opp > 0:\n",
    "        return \"+\" + str(cal - opp)\n",
    "    elif opp - cal > 0:\n",
    "        return \"-\" + str(opp - cal)\n",
    "    else:\n",
    "        return 0\n",
    "\n",
    "#create a list respresenting calculations for the game\n",
    "poss = df.loc['CAL', 'FGA']-df.loc['CAL', 'Offensive Rebounds']+df.loc['CAL', 'Total Turnovers']+.475*df.loc['CAL', 'FTA']\n",
    "calc = [opponent, poss, team_score[opponent]/poss, (df.loc[opponent, 'FGM']+.5*df.loc[opponent, '3PTM'])*100/df.loc[opponent, 'FGA'], df.loc['CAL', 'Defensive Rebounds']*100/(df.loc['CAL', 'Defensive Rebounds']+df.loc[opponent, 'Offensive Rebounds']), df.loc[opponent, 'Total Turnovers']*100/poss, df.loc[opponent, 'Field Goal %'], df.loc[opponent, 'Three Point %'],(df.loc[opponent, 'FTA']*100/df.loc[opponent, 'FGA'], df.loc[opponent, 'FTM']*100/df.loc[opponent, 'FTA']), team_score['CAL']/poss, (df.loc['CAL', 'FGM']+.5*df.loc['CAL', '3PTM'])*100/df.loc['CAL', 'FGA'], df.loc['CAL', 'Offensive Rebounds']*100/(df.loc[opponent, 'Defensive Rebounds']+df.loc['CAL', 'Offensive Rebounds']), df.loc['CAL', 'Total Turnovers']*100/poss, df.loc['CAL', 'Field Goal %'], df.loc['CAL', 'Three Point %'],(df.loc['CAL', 'FTA']*100/df.loc['CAL', 'FGA'], df.loc['CAL', 'FTM']*100/df.loc['CAL', 'FTA']), net(df.loc['CAL', 'Offensive Rebounds']+df.loc[\"CAL\", 'Defensive Rebounds'], df.loc[opponent, 'Offensive Rebounds']+df.loc[opponent, 'Defensive Rebounds']), net(df.loc['CAL', '3PTM'], df.loc[opponent, '3PTM'])]\n",
    "calc"
   ]
  },
  {
   "cell_type": "code",
   "execution_count": 16,
   "id": "adebedbe",
   "metadata": {},
   "outputs": [
    {
     "name": "stdout",
     "output_type": "stream",
     "text": [
      "[datetime.datetime(2022, 1, 8, 0, 0), datetime.datetime(2022, 1, 12, 0, 0), datetime.datetime(2022, 1, 15, 0, 0), datetime.datetime(2022, 1, 23, 0, 0), datetime.datetime(2022, 1, 27, 0, 0), datetime.datetime(2022, 1, 29, 0, 0), datetime.datetime(2022, 2, 3, 0, 0), datetime.datetime(2022, 2, 5, 0, 0), datetime.datetime(2022, 2, 9, 0, 0), datetime.datetime(2022, 2, 12, 0, 0), datetime.datetime(2022, 2, 17, 0, 0), datetime.datetime(2022, 2, 19, 0, 0), datetime.datetime(2022, 2, 26, 0, 0), datetime.datetime(2022, 3, 3, 0, 0), datetime.datetime(2022, 3, 5, 0, 0)]\n"
     ]
    }
   ],
   "source": [
    "x = [401377403, 401377407, 401377413, 401377429, 401377432, 401377437, 401377446, 401377447, 401377453, 401377457, 401377465, 401377469, 401377483, 401377484, 401377490]\n",
    "def get_date(game_id):\n",
    "    try:\n",
    "        url = \"https://www.espn.com/mens-college-basketball/game/_/gameId/\" + str(game_id)\n",
    "        r = requests.get(url)\n",
    "        webpage = bs(r.content, features=\"html.parser\")\n",
    "        date = re.findall('(?:January|February|March|April|May|June|July|August|September|October|November|December)\\s[1-9][1-9]?,\\s[0-9]{4}', webpage.find(\"title\").get_text())[0]\n",
    "        return date\n",
    "    except TypeError:\n",
    "        print(game_id)\n",
    "    except IndexError:\n",
    "        print(game_id, 1)\n",
    "\n",
    "print([parse(date) for date in map(get_date, x)])"
   ]
  },
  {
   "cell_type": "code",
   "execution_count": 6,
   "id": "4ef0baf1",
   "metadata": {},
   "outputs": [],
   "source": [
    "#collect & process data based on GAME ID\n",
    "url = \"https://www.espn.com/mens-college-basketball/matchup?gameId=\" + str(401377407)\n",
    "r = requests.get(url)\n",
    "webpage = bs(r.content, features=\"html.parser\")"
   ]
  },
  {
   "cell_type": "code",
   "execution_count": null,
   "id": "d4e25a81",
   "metadata": {},
   "outputs": [],
   "source": []
  }
 ],
 "metadata": {
  "kernelspec": {
   "display_name": "Python 3 (ipykernel)",
   "language": "python",
   "name": "python3"
  },
  "language_info": {
   "codemirror_mode": {
    "name": "ipython",
    "version": 3
   },
   "file_extension": ".py",
   "mimetype": "text/x-python",
   "name": "python",
   "nbconvert_exporter": "python",
   "pygments_lexer": "ipython3",
   "version": "3.9.6"
  }
 },
 "nbformat": 4,
 "nbformat_minor": 5
}
