{
 "cells": [
  {
   "cell_type": "code",
   "execution_count": null,
   "id": "a29a985e",
   "metadata": {},
   "outputs": [],
   "source": [
    "import requests\n",
    "from bs4 import BeautifulSoup as bs\n",
    "import pandas as pd\n",
    "import re"
   ]
  },
  {
   "cell_type": "code",
   "execution_count": null,
   "id": "ea8c49bb",
   "metadata": {},
   "outputs": [],
   "source": [
    "url = \"https://www.espn.com/mens-college-basketball/matchup?gameId=\" + str(401372480)\n",
    "\n",
    "r = requests.get(url)\n",
    "\n",
    "webpage = bs(r.content)"
   ]
  },
  {
   "cell_type": "code",
   "execution_count": null,
   "id": "3ee7e036",
   "metadata": {},
   "outputs": [],
   "source": [
    "#create dictionary for CAL & opponent with respective scores\n",
    "team_name = [name.string for name in webpage.find_all(\"td\", attrs={\"class\", \"team-name\"})]\n",
    "score = [float(final_score.string) for final_score in webpage.find_all(\"td\", attrs={\"class\", \"final-score\"})]\n",
    "\n",
    "team_score = dict(zip(team_name, score))\n",
    "\n",
    "#determine opponent\n",
    "for team in team_name:\n",
    "    if team != \"CAL\":\n",
    "        opponent = team"
   ]
  },
  {
   "cell_type": "code",
   "execution_count": null,
   "id": "4ac85fa3",
   "metadata": {},
   "outputs": [],
   "source": []
  },
  {
   "cell_type": "code",
   "execution_count": null,
   "id": "3b244c66",
   "metadata": {},
   "outputs": [],
   "source": []
  },
  {
   "cell_type": "code",
   "execution_count": null,
   "id": "ad1df7be",
   "metadata": {},
   "outputs": [],
   "source": []
  },
  {
   "cell_type": "code",
   "execution_count": null,
   "id": "b6dbfbc0",
   "metadata": {},
   "outputs": [],
   "source": []
  }
 ],
 "metadata": {
  "kernelspec": {
   "display_name": "Python 3 (ipykernel)",
   "language": "python",
   "name": "python3"
  },
  "language_info": {
   "codemirror_mode": {
    "name": "ipython",
    "version": 3
   },
   "file_extension": ".py",
   "mimetype": "text/x-python",
   "name": "python",
   "nbconvert_exporter": "python",
   "pygments_lexer": "ipython3",
   "version": "3.9.6"
  }
 },
 "nbformat": 4,
 "nbformat_minor": 5
}
