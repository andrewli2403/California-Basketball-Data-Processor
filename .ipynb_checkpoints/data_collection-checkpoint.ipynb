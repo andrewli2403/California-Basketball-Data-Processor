{
 "cells": [
  {
   "cell_type": "code",
   "execution_count": 7,
   "id": "177c3cdd",
   "metadata": {},
   "outputs": [
    {
     "ename": "SyntaxError",
     "evalue": "invalid syntax (936365029.py, line 2)",
     "output_type": "error",
     "traceback": [
      "\u001b[0;36m  File \u001b[0;32m\"/var/folders/yt/gxmchxmj1hd27k6m7d04b_180000gn/T/ipykernel_8402/936365029.py\"\u001b[0;36m, line \u001b[0;32m2\u001b[0m\n\u001b[0;31m    from Data Processor import x\u001b[0m\n\u001b[0m              ^\u001b[0m\n\u001b[0;31mSyntaxError\u001b[0m\u001b[0;31m:\u001b[0m invalid syntax\n"
     ]
    }
   ],
   "source": [
    "import pandas as pd\n",
    "from Data Processor import x"
   ]
  },
  {
   "cell_type": "code",
   "execution_count": 6,
   "id": "fde69b8b",
   "metadata": {},
   "outputs": [
    {
     "data": {
      "text/html": [
       "<div>\n",
       "<style scoped>\n",
       "    .dataframe tbody tr th:only-of-type {\n",
       "        vertical-align: middle;\n",
       "    }\n",
       "\n",
       "    .dataframe tbody tr th {\n",
       "        vertical-align: top;\n",
       "    }\n",
       "\n",
       "    .dataframe thead th {\n",
       "        text-align: right;\n",
       "    }\n",
       "</style>\n",
       "<table border=\"1\" class=\"dataframe\">\n",
       "  <thead>\n",
       "    <tr style=\"text-align: right;\">\n",
       "      <th></th>\n",
       "      <th>Game</th>\n",
       "      <th>Poss</th>\n",
       "      <th>DER</th>\n",
       "      <th>Def eFG%</th>\n",
       "      <th>Def Reb%</th>\n",
       "      <th>Def TO%</th>\n",
       "      <th>Def FG%</th>\n",
       "      <th>Def 3PT%</th>\n",
       "      <th>Def FT RATE, %</th>\n",
       "      <th>OER</th>\n",
       "      <th>Off eFG%</th>\n",
       "      <th>Off Reb%</th>\n",
       "      <th>Off TO%</th>\n",
       "      <th>Off FG%</th>\n",
       "      <th>Off 3pt%</th>\n",
       "      <th>Off FT Rate, %</th>\n",
       "      <th>Reb +/-</th>\n",
       "      <th>3pt +/-</th>\n",
       "    </tr>\n",
       "  </thead>\n",
       "  <tbody>\n",
       "  </tbody>\n",
       "</table>\n",
       "</div>"
      ],
      "text/plain": [
       "Empty DataFrame\n",
       "Columns: [Game, Poss, DER, Def eFG%, Def Reb%, Def TO%, Def FG%, Def 3PT%, Def FT RATE, %, OER, Off eFG%, Off Reb%, Off TO%, Off FG%, Off 3pt%, Off FT Rate, %, Reb +/-, 3pt +/-]\n",
       "Index: []"
      ]
     },
     "execution_count": 6,
     "metadata": {},
     "output_type": "execute_result"
    }
   ],
   "source": [
    "#create datatable for this game, corresponding to Post Game Analytics\n",
    "columns = [\"Game\", \"Poss\", \"DER\", \"Def eFG%\", \"Def Reb%\", \"Def TO%\", \"Def FG%\", \"Def 3PT%\", \"Def FT RATE, %\", \"OER\", \"Off eFG%\", \"Off Reb%\", \"Off TO%\", \"Off FG%\", \"Off 3pt%\", \"Off FT Rate, %\", \"Reb +/-\", \"3pt +/-\"]\n",
    "analytics = pd.DataFrame([], columns=columns)\n",
    "analytics"
   ]
  },
  {
   "cell_type": "code",
   "execution_count": null,
   "id": "df66ecae",
   "metadata": {},
   "outputs": [],
   "source": []
  }
 ],
 "metadata": {
  "kernelspec": {
   "display_name": "Python 3 (ipykernel)",
   "language": "python",
   "name": "python3"
  },
  "language_info": {
   "codemirror_mode": {
    "name": "ipython",
    "version": 3
   },
   "file_extension": ".py",
   "mimetype": "text/x-python",
   "name": "python",
   "nbconvert_exporter": "python",
   "pygments_lexer": "ipython3",
   "version": "3.9.6"
  }
 },
 "nbformat": 4,
 "nbformat_minor": 5
}
