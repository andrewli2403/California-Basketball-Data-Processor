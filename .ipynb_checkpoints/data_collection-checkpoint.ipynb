{
 "cells": [
  {
   "cell_type": "code",
   "execution_count": 30,
   "id": "2560dcd1",
   "metadata": {},
   "outputs": [],
   "source": [
    "import pandas as pd\n",
    "from utility_functions import processor\n",
    "from utility_functions import get_date\n",
    "\n",
    "##SPECIFCY HTML parser: \"html.parser\""
   ]
  },
  {
   "cell_type": "code",
   "execution_count": 31,
   "id": "288804f6",
   "metadata": {},
   "outputs": [
    {
     "data": {
      "text/html": [
       "<div>\n",
       "<style scoped>\n",
       "    .dataframe tbody tr th:only-of-type {\n",
       "        vertical-align: middle;\n",
       "    }\n",
       "\n",
       "    .dataframe tbody tr th {\n",
       "        vertical-align: top;\n",
       "    }\n",
       "\n",
       "    .dataframe thead th {\n",
       "        text-align: right;\n",
       "    }\n",
       "</style>\n",
       "<table border=\"1\" class=\"dataframe\">\n",
       "  <thead>\n",
       "    <tr style=\"text-align: right;\">\n",
       "      <th></th>\n",
       "      <th>Game</th>\n",
       "      <th>Poss</th>\n",
       "      <th>DER</th>\n",
       "      <th>Def eFG%</th>\n",
       "      <th>Def Reb%</th>\n",
       "      <th>Def TO%</th>\n",
       "      <th>Def FG%</th>\n",
       "      <th>Def 3PT%</th>\n",
       "      <th>Def FT RATE, %</th>\n",
       "      <th>OER</th>\n",
       "      <th>Off eFG%</th>\n",
       "      <th>Off Reb%</th>\n",
       "      <th>Off TO%</th>\n",
       "      <th>Off FG%</th>\n",
       "      <th>Off 3pt%</th>\n",
       "      <th>Off FT Rate, %</th>\n",
       "      <th>Reb +/-</th>\n",
       "      <th>3pt +/-</th>\n",
       "    </tr>\n",
       "  </thead>\n",
       "  <tbody>\n",
       "  </tbody>\n",
       "</table>\n",
       "</div>"
      ],
      "text/plain": [
       "Empty DataFrame\n",
       "Columns: [Game, Poss, DER, Def eFG%, Def Reb%, Def TO%, Def FG%, Def 3PT%, Def FT RATE, %, OER, Off eFG%, Off Reb%, Off TO%, Off FG%, Off 3pt%, Off FT Rate, %, Reb +/-, 3pt +/-]\n",
       "Index: []"
      ]
     },
     "execution_count": 31,
     "metadata": {},
     "output_type": "execute_result"
    }
   ],
   "source": [
    "#create datatable for this game, corresponding to Post Game Analytics\n",
    "columns = [\"Game\", \"Poss\", \"DER\", \"Def eFG%\", \"Def Reb%\", \"Def TO%\", \"Def FG%\", \"Def 3PT%\", \"Def FT RATE, %\", \"OER\", \"Off eFG%\", \"Off Reb%\", \"Off TO%\", \"Off FG%\", \"Off 3pt%\", \"Off FT Rate, %\", \"Reb +/-\", \"3pt +/-\"]\n",
    "analytics = pd.DataFrame([], columns=columns)\n",
    "analytics"
   ]
  },
  {
   "cell_type": "code",
   "execution_count": null,
   "id": "21a8e728",
   "metadata": {},
   "outputs": [],
   "source": [
    "game_ids = [401373623, 401372480]"
   ]
  },
  {
   "cell_type": "code",
   "execution_count": 33,
   "id": "82c3b8d3",
   "metadata": {},
   "outputs": [
    {
     "name": "stdout",
     "output_type": "stream",
     "text": [
      "['UCSD', 72.4, 1.1049723756906076, 63.04347826086956, 95.45454545454545, 17.955801104972373, 52.2, 45.5, [60.869565217391305, 78.57142857142857], 0.9254143646408839, 44.166666666666664, 25.641025641025642, 15.193370165745856, 40.0, 27.8, [40.0, 58.333333333333336], '+1.0', '-5.0'] 11/9/2021\n"
     ]
    },
    {
     "name": "stderr",
     "output_type": "stream",
     "text": [
      "/Users/Andrew/Desktop/CalBasketballData/utility_functions.py:109: GuessedAtParserWarning: No parser was explicitly specified, so I'm using the best available HTML parser for this system (\"html.parser\"). This usually isn't a problem, but if you run this code on another system, or in a different virtual environment, it may use a different parser and behave differently.\n",
      "\n",
      "The code that caused this warning is on line 109 of the file /Users/Andrew/Desktop/CalBasketballData/utility_functions.py. To get rid of this warning, pass the additional argument 'features=\"html.parser\"' to the BeautifulSoup constructor.\n",
      "\n",
      "  webpage = bs(r.content)\n"
     ]
    }
   ],
   "source": [
    "print(processor(401373623), get_date(401373623))"
   ]
  },
  {
   "cell_type": "code",
   "execution_count": null,
   "id": "27c7a91d",
   "metadata": {},
   "outputs": [],
   "source": []
  }
 ],
 "metadata": {
  "kernelspec": {
   "display_name": "Python 3 (ipykernel)",
   "language": "python",
   "name": "python3"
  },
  "language_info": {
   "codemirror_mode": {
    "name": "ipython",
    "version": 3
   },
   "file_extension": ".py",
   "mimetype": "text/x-python",
   "name": "python",
   "nbconvert_exporter": "python",
   "pygments_lexer": "ipython3",
   "version": "3.9.6"
  }
 },
 "nbformat": 4,
 "nbformat_minor": 5
}
