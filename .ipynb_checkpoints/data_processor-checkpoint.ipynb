{
 "cells": [
  {
   "cell_type": "code",
   "execution_count": 25,
   "id": "398bd1e6",
   "metadata": {},
   "outputs": [],
   "source": [
    "import requests\n",
    "from bs4 import BeautifulSoup as bs\n",
    "import pandas as pd\n",
    "import re"
   ]
  },
  {
   "cell_type": "code",
   "execution_count": 26,
   "id": "2c780625",
   "metadata": {},
   "outputs": [],
   "source": [
    "#collect & process data based on GAME ID\n",
    "url = \"https://www.espn.com/mens-college-basketball/matchup?gameId=\" + str(401373623)\n",
    "r = requests.get(url)\n",
    "webpage = bs(r.content)"
   ]
  },
  {
   "cell_type": "code",
   "execution_count": 27,
   "id": "fbc41cc6",
   "metadata": {},
   "outputs": [],
   "source": [
    "#create dictionary for CAL & opponent with respective scores\n",
    "team_name = [name.string for name in webpage.find_all(\"td\", attrs={\"class\", \"team-name\"})]\n",
    "score = [float(final_score.string) for final_score in webpage.find_all(\"td\", attrs={\"class\", \"final-score\"})]\n",
    "\n",
    "team_score = dict(zip(team_name, score))\n",
    "\n",
    "#determine opponent\n",
    "for team in team_name:\n",
    "    if team != \"CAL\":\n",
    "        opponent = team"
   ]
  },
  {
   "cell_type": "code",
   "execution_count": 28,
   "id": "ad159119",
   "metadata": {},
   "outputs": [],
   "source": [
    "#locate table for main data regarding game\n",
    "table = webpage.select(\"table.mod-data\")[0]\n",
    "\n",
    "#create column_names and locate the rows of the table\n",
    "\n",
    "column_names = (list(team_score.keys()))\n",
    "#columns = table.find_all(\"td\", string=re.compile(\"[A-Za-z%]+\"))\n",
    "#column_names = [c.get_text().strip() for c in columns]\n",
    "\n",
    "table_rows = table.find(\"tbody\").find_all(\"tr\")\n",
    "\n",
    "#accumulate all the table_rows into one list\n",
    "row_names, l = [], []\n",
    "for tr in table_rows:\n",
    "    td = tr.find_all(\"td\")\n",
    "    #row: [STAT_NAME, NUM1, NUM2]\n",
    "    row = [tr.get_text().strip() for tr in td]\n",
    "    #.append([NUM1, NUM2])\n",
    "    l.append(row[1:])\n",
    "    #.append([STAT_NAME])\n",
    "    row_names.append(row[0])"
   ]
  },
  {
   "cell_type": "code",
   "execution_count": 29,
   "id": "7bbc2dc6",
   "metadata": {},
   "outputs": [],
   "source": [
    "#create data table with column_names and rows within table.mod-data\n",
    "df = pd.DataFrame(l, columns=column_names)"
   ]
  },
  {
   "cell_type": "code",
   "execution_count": 30,
   "id": "eacd773e",
   "metadata": {},
   "outputs": [],
   "source": [
    "#searches a string with - and seperates elements from either side into a list\n",
    "def try_convert(val): \n",
    "    hyphen_index = val.index(\"-\")\n",
    "    return [val[:hyphen_index], val[hyphen_index + 1:]]\n",
    "\n",
    "#append new rows for FGA, FGM, 3PTA, 3PTM, FTA, FTM for later calculations in MAKES-ATTEMPT format\n",
    "for index in df.index:\n",
    "    if re.search(\"-\", df.loc[index, \"CAL\"]) and re.search(\"-\", df.loc[index, opponent]):\n",
    "        #multiple assignment with try_convert to extract attempts and makes \n",
    "        makes_cal, att_cal = try_convert(df.loc[index, \"CAL\"])[0], try_convert(df.loc[index, \"CAL\"])[1]\n",
    "        makes_opp, att_opp = try_convert(df.loc[index, opponent])[0], try_convert(df.loc[index, opponent])[1]\n",
    "        \n",
    "        #assigns current row with makes\n",
    "        df.loc[index, \"CAL\"], df.loc[index, opponent] = makes_cal, makes_opp\n",
    "    \n",
    "        #append new row with attempts, increasing index to reorder later\n",
    "        df2 = pd.DataFrame({'CAL': att_cal, opponent: att_opp}, index=[index + .1])\n",
    "        df = df.append(df2, ignore_index = False)"
   ]
  },
  {
   "cell_type": "code",
   "execution_count": 31,
   "id": "7b6cd90e",
   "metadata": {},
   "outputs": [],
   "source": [
    "#reorder rows with increasing index\n",
    "df = df.sort_index().reset_index(drop=True)\n",
    "\n",
    "#adds FGA, FGM, 3PTA, 3PTM, FTA, FTM row names\n",
    "row = []\n",
    "def add_makes_att(lst, new_lst):\n",
    "    for stat in lst:\n",
    "        if re.search(\"FG|3PT|FT\", stat):\n",
    "            new_lst.append(stat + \"M\")\n",
    "            new_lst.append(stat +\"A\")\n",
    "        else:\n",
    "            new_lst.append(stat)\n",
    "    return new_lst\n",
    "\n",
    "row_names = add_makes_att(row_names, row)\n",
    "\n",
    "#set row indexes as STAT_NAME within row\n",
    "df.index = row_names"
   ]
  },
  {
   "cell_type": "code",
   "execution_count": 32,
   "id": "72f2961f",
   "metadata": {},
   "outputs": [
    {
     "data": {
      "text/html": [
       "<div>\n",
       "<style scoped>\n",
       "    .dataframe tbody tr th:only-of-type {\n",
       "        vertical-align: middle;\n",
       "    }\n",
       "\n",
       "    .dataframe tbody tr th {\n",
       "        vertical-align: top;\n",
       "    }\n",
       "\n",
       "    .dataframe thead th {\n",
       "        text-align: right;\n",
       "    }\n",
       "</style>\n",
       "<table border=\"1\" class=\"dataframe\">\n",
       "  <thead>\n",
       "    <tr style=\"text-align: right;\">\n",
       "      <th></th>\n",
       "      <th>FGM</th>\n",
       "      <th>FGA</th>\n",
       "      <th>Field Goal %</th>\n",
       "      <th>3PTM</th>\n",
       "      <th>3PTA</th>\n",
       "      <th>Three Point %</th>\n",
       "      <th>FTM</th>\n",
       "      <th>FTA</th>\n",
       "      <th>Free Throw %</th>\n",
       "      <th>Rebounds</th>\n",
       "      <th>...</th>\n",
       "      <th>Defensive Rebounds</th>\n",
       "      <th>Team Rebounds</th>\n",
       "      <th>Assists</th>\n",
       "      <th>Steals</th>\n",
       "      <th>Blocks</th>\n",
       "      <th>Total Turnovers</th>\n",
       "      <th>Fouls</th>\n",
       "      <th>Technical Fouls</th>\n",
       "      <th>Flagrant Fouls</th>\n",
       "      <th>Largest Lead</th>\n",
       "    </tr>\n",
       "  </thead>\n",
       "  <tbody>\n",
       "    <tr>\n",
       "      <th>UCSD</th>\n",
       "      <td>24.0</td>\n",
       "      <td>46.0</td>\n",
       "      <td>52.200001</td>\n",
       "      <td>10.0</td>\n",
       "      <td>22.0</td>\n",
       "      <td>45.500000</td>\n",
       "      <td>22.0</td>\n",
       "      <td>28.0</td>\n",
       "      <td>78.599998</td>\n",
       "      <td>30.0</td>\n",
       "      <td>...</td>\n",
       "      <td>29.0</td>\n",
       "      <td>0.0</td>\n",
       "      <td>10.0</td>\n",
       "      <td>5.0</td>\n",
       "      <td>2.0</td>\n",
       "      <td>13.0</td>\n",
       "      <td>20.0</td>\n",
       "      <td>1.0</td>\n",
       "      <td>0.0</td>\n",
       "      <td>13.0</td>\n",
       "    </tr>\n",
       "    <tr>\n",
       "      <th>CAL</th>\n",
       "      <td>24.0</td>\n",
       "      <td>60.0</td>\n",
       "      <td>40.000000</td>\n",
       "      <td>5.0</td>\n",
       "      <td>18.0</td>\n",
       "      <td>27.799999</td>\n",
       "      <td>14.0</td>\n",
       "      <td>24.0</td>\n",
       "      <td>58.299999</td>\n",
       "      <td>31.0</td>\n",
       "      <td>...</td>\n",
       "      <td>21.0</td>\n",
       "      <td>0.0</td>\n",
       "      <td>4.0</td>\n",
       "      <td>5.0</td>\n",
       "      <td>1.0</td>\n",
       "      <td>11.0</td>\n",
       "      <td>20.0</td>\n",
       "      <td>0.0</td>\n",
       "      <td>0.0</td>\n",
       "      <td>11.0</td>\n",
       "    </tr>\n",
       "  </tbody>\n",
       "</table>\n",
       "<p>2 rows × 21 columns</p>\n",
       "</div>"
      ],
      "text/plain": [
       "       FGM   FGA  Field Goal %  3PTM  3PTA  Three Point %   FTM   FTA  \\\n",
       "UCSD  24.0  46.0     52.200001  10.0  22.0      45.500000  22.0  28.0   \n",
       "CAL   24.0  60.0     40.000000   5.0  18.0      27.799999  14.0  24.0   \n",
       "\n",
       "      Free Throw %  Rebounds  ...  Defensive Rebounds  Team Rebounds  Assists  \\\n",
       "UCSD     78.599998      30.0  ...                29.0            0.0     10.0   \n",
       "CAL      58.299999      31.0  ...                21.0            0.0      4.0   \n",
       "\n",
       "      Steals  Blocks  Total Turnovers  Fouls  Technical Fouls  Flagrant Fouls  \\\n",
       "UCSD     5.0     2.0             13.0   20.0              1.0             0.0   \n",
       "CAL      5.0     1.0             11.0   20.0              0.0             0.0   \n",
       "\n",
       "      Largest Lead  \n",
       "UCSD          13.0  \n",
       "CAL           11.0  \n",
       "\n",
       "[2 rows x 21 columns]"
      ]
     },
     "execution_count": 32,
     "metadata": {},
     "output_type": "execute_result"
    }
   ],
   "source": [
    "#turns all stats into float, tranpose matrix\n",
    "df[\"CAL\"] = pd.to_numeric(df[\"CAL\"], downcast=\"float\")\n",
    "df[opponent] = pd.to_numeric(df[opponent], downcast=\"float\")\n",
    "df = df.T\n",
    "df"
   ]
  },
  {
   "cell_type": "code",
   "execution_count": 34,
   "id": "1fb7c257",
   "metadata": {},
   "outputs": [
    {
     "name": "stdout",
     "output_type": "stream",
     "text": [
      "3 4\n"
     ]
    }
   ],
   "source": [
    "#calculates +/-\n",
    "def net(cal, opp):\n",
    "    if cal - opp > 0:\n",
    "        return \"+\" + str(cal - opp)\n",
    "    elif opp - cal > 0:\n",
    "        return \"-\" + str(opp - cal)\n",
    "    else:\n",
    "        return 0\n",
    "\n",
    "#create a list respresenting calculations for the game\n",
    "poss = df.loc['CAL', 'FGA']-df.loc['CAL', 'Offensive Rebounds']+df.loc['CAL', 'Total Turnovers']+.475*df.loc['CAL', 'FTA']\n",
    "calc = [opponent, poss, team_score[opponent]/poss, (df.loc[opponent, 'FGM']+.5*df.loc[opponent, '3PTM'])*100/df.loc[opponent, 'FGA'], df.loc['CAL', 'Defensive Rebounds']*100/(df.loc['CAL', 'Defensive Rebounds']+df.loc[opponent, 'Offensive Rebounds']), df.loc[opponent, 'Total Turnovers']*100/poss, df.loc[opponent, 'Field Goal %'], df.loc[opponent, 'Three Point %'],[df.loc[opponent, 'FTA']*100/df.loc[opponent, 'FGA'], df.loc[opponent, 'FTM']*100/df.loc[opponent, 'FTA']], team_score['CAL']/poss, (df.loc['CAL', 'FGM']+.5*df.loc['CAL', '3PTM'])*100/df.loc['CAL', 'FGA'], df.loc['CAL', 'Offensive Rebounds']*100/(df.loc[opponent, 'Defensive Rebounds']+df.loc['CAL', 'Offensive Rebounds']), df.loc['CAL', 'Total Turnovers']*100/poss, df.loc['CAL', 'Field Goal %'], df.loc['CAL', 'Three Point %'],[df.loc['CAL', 'FTA']*100/df.loc['CAL', 'FGA'], df.loc['CAL', 'FTM']*100/df.loc['CAL', 'FTA']], net(df.loc['CAL', 'Offensive Rebounds']+df.loc[\"CAL\", 'Defensive Rebounds'], df.loc[opponent, 'Offensive Rebounds']+df.loc[opponent, 'Defensive Rebounds']), net(df.loc['CAL', '3PTM'], df.loc[opponent, '3PTM'])]\n"
   ]
  },
  {
   "cell_type": "code",
   "execution_count": 24,
   "id": "01227b35",
   "metadata": {},
   "outputs": [],
   "source": [
    "#find date of game\n",
    "def get_date(game_id):\n",
    "    url = \"https://www.espn.com/mens-college-basketball/game/_/gameId/\" + str(game_id)\n",
    "    r = requests.get(url)\n",
    "    webpage = bs(r.content)\n",
    "    date = webpage.find(\"header\", attrs={\"class\", \"top-stories__story-header\"}).find(\"span\", attrs={\"class\", \"date\"}).get_text()\n",
    "    return date"
   ]
  }
 ],
 "metadata": {
  "kernelspec": {
   "display_name": "Python 3 (ipykernel)",
   "language": "python",
   "name": "python3"
  },
  "language_info": {
   "codemirror_mode": {
    "name": "ipython",
    "version": 3
   },
   "file_extension": ".py",
   "mimetype": "text/x-python",
   "name": "python",
   "nbconvert_exporter": "python",
   "pygments_lexer": "ipython3",
   "version": "3.9.6"
  }
 },
 "nbformat": 4,
 "nbformat_minor": 5
}
