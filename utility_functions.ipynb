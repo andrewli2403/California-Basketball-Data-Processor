{
 "cells": [
  {
   "cell_type": "code",
   "execution_count": 2,
   "id": "398bd1e6",
   "metadata": {},
   "outputs": [],
   "source": [
    "import requests\n",
    "from bs4 import BeautifulSoup as bs\n",
    "import pandas as pd\n",
    "import re"
   ]
  },
  {
   "cell_type": "code",
   "execution_count": 3,
   "id": "2c780625",
   "metadata": {},
   "outputs": [],
   "source": [
    "url = \"https://www.espn.com/mens-college-basketball/matchup?gameId=\" + str(401372480)\n",
    "\n",
    "r = requests.get(url)\n",
    "\n",
    "webpage = bs(r.content)"
   ]
  },
  {
   "cell_type": "code",
   "execution_count": 4,
   "id": "fbc41cc6",
   "metadata": {},
   "outputs": [],
   "source": [
    "#create dictionary for CAL & opponent with respective scores\n",
    "team_name = [name.string for name in webpage.find_all(\"td\", attrs={\"class\", \"team-name\"})]\n",
    "score = [float(final_score.string) for final_score in webpage.find_all(\"td\", attrs={\"class\", \"final-score\"})]\n",
    "\n",
    "team_score = dict(zip(team_name, score))\n",
    "\n",
    "#determine opponent\n",
    "for team in team_name:\n",
    "    if team != \"CAL\":\n",
    "        opponent = team"
   ]
  },
  {
   "cell_type": "code",
   "execution_count": 5,
   "id": "ad159119",
   "metadata": {},
   "outputs": [],
   "source": [
    "#locate table for main data regarding game\n",
    "table = webpage.select(\"table.mod-data\")[0]\n",
    "\n",
    "#create column_names and locate the rows of the table\n",
    "\n",
    "column_names = (list(team_score.keys()))\n",
    "#columns = table.find_all(\"td\", string=re.compile(\"[A-Za-z%]+\"))\n",
    "#column_names = [c.get_text().strip() for c in columns]\n",
    "\n",
    "table_rows = table.find(\"tbody\").find_all(\"tr\")\n",
    "\n",
    "#accumulate all the table_rows into one list\n",
    "row_names, l = [], []\n",
    "for tr in table_rows:\n",
    "    td = tr.find_all(\"td\")\n",
    "    #row: [STAT_NAME, NUM1, NUM2]\n",
    "    row = [tr.get_text().strip() for tr in td]\n",
    "    #.append([NUM1, NUM2])\n",
    "    l.append(row[1:])\n",
    "    #.append([STAT_NAME])\n",
    "    row_names.append(row[0])"
   ]
  },
  {
   "cell_type": "code",
   "execution_count": 6,
   "id": "7bbc2dc6",
   "metadata": {},
   "outputs": [],
   "source": [
    "#create data table with column_names and rows within table.mod-data\n",
    "df = pd.DataFrame(l, columns=column_names)"
   ]
  },
  {
   "cell_type": "code",
   "execution_count": 7,
   "id": "eacd773e",
   "metadata": {},
   "outputs": [],
   "source": [
    "#searches a string with - and seperates elements from either side into a list\n",
    "def try_convert(val): \n",
    "    hyphen_index = val.index(\"-\")\n",
    "    return [val[:hyphen_index], val[hyphen_index + 1:]]\n",
    "\n",
    "#append new rows for FGA, FGM, 3PTA, 3PTM, FTA, FTM for later calculations in MAKES-ATTEMPT format\n",
    "for index in df.index:\n",
    "    if re.search(\"-\", df.loc[index, \"CAL\"]) and re.search(\"-\", df.loc[index, opponent]):\n",
    "        #multiple assignment with try_convert to extract attempts and makes \n",
    "        makes_cal, att_cal = try_convert(df.loc[index, \"CAL\"])[0], try_convert(df.loc[index, \"CAL\"])[1]\n",
    "        makes_opp, att_opp = try_convert(df.loc[index, opponent])[0], try_convert(df.loc[index, opponent])[1]\n",
    "        \n",
    "        #assigns current row with makes\n",
    "        df.loc[index, \"CAL\"], df.loc[index, opponent] = makes_cal, makes_opp\n",
    "    \n",
    "        #append new row with attempts, increasing index to reorder later\n",
    "        df2 = pd.DataFrame({'CAL': att_cal, opponent: att_opp}, index=[index + .1])\n",
    "        df = df.append(df2, ignore_index = False)"
   ]
  },
  {
   "cell_type": "code",
   "execution_count": 8,
   "id": "7b6cd90e",
   "metadata": {},
   "outputs": [],
   "source": [
    "#reorder rows with increasing index\n",
    "df = df.sort_index().reset_index(drop=True)\n",
    "\n",
    "#adds FGA, FGM, 3PTA, 3PTM, FTA, FTM row names\n",
    "row = []\n",
    "def add_makes_att(lst, new_lst):\n",
    "    for stat in lst:\n",
    "        if re.search(\"FG|3PT|FT\", stat):\n",
    "            new_lst.append(stat + \"M\")\n",
    "            new_lst.append(stat +\"A\")\n",
    "        else:\n",
    "            new_lst.append(stat)\n",
    "    return new_lst\n",
    "\n",
    "row_names = add_makes_att(row_names, row)\n",
    "\n",
    "#set row indexes as STAT_NAME within row\n",
    "df.index = row_names"
   ]
  },
  {
   "cell_type": "code",
   "execution_count": 9,
   "id": "72f2961f",
   "metadata": {},
   "outputs": [],
   "source": [
    "#turns all stats into float, tranpose matrix\n",
    "df[\"CAL\"] = pd.to_numeric(df[\"CAL\"], downcast=\"float\")\n",
    "df[opponent] = pd.to_numeric(df[opponent], downcast=\"float\")\n",
    "df = df.T"
   ]
  },
  {
   "cell_type": "code",
   "execution_count": 14,
   "id": "e7520f44",
   "metadata": {},
   "outputs": [
    {
     "data": {
      "text/html": [
       "<div>\n",
       "<style scoped>\n",
       "    .dataframe tbody tr th:only-of-type {\n",
       "        vertical-align: middle;\n",
       "    }\n",
       "\n",
       "    .dataframe tbody tr th {\n",
       "        vertical-align: top;\n",
       "    }\n",
       "\n",
       "    .dataframe thead th {\n",
       "        text-align: right;\n",
       "    }\n",
       "</style>\n",
       "<table border=\"1\" class=\"dataframe\">\n",
       "  <thead>\n",
       "    <tr style=\"text-align: right;\">\n",
       "      <th></th>\n",
       "      <th>Game</th>\n",
       "      <th>Poss</th>\n",
       "      <th>DER</th>\n",
       "      <th>Def eFG%</th>\n",
       "      <th>Def Reb%</th>\n",
       "      <th>Def TO%</th>\n",
       "      <th>Def FG%</th>\n",
       "      <th>Def 3PT%</th>\n",
       "      <th>Def FT RATE, %</th>\n",
       "      <th>OER</th>\n",
       "      <th>Off eFG%</th>\n",
       "      <th>Off Reb%</th>\n",
       "      <th>Off TO%</th>\n",
       "      <th>Off FG%</th>\n",
       "      <th>Off 3pt%</th>\n",
       "      <th>Off FT Rate, %</th>\n",
       "      <th>Reb +/-</th>\n",
       "      <th>3pt +/-</th>\n",
       "    </tr>\n",
       "  </thead>\n",
       "  <tbody>\n",
       "  </tbody>\n",
       "</table>\n",
       "</div>"
      ],
      "text/plain": [
       "Empty DataFrame\n",
       "Columns: [Game, Poss, DER, Def eFG%, Def Reb%, Def TO%, Def FG%, Def 3PT%, Def FT RATE, %, OER, Off eFG%, Off Reb%, Off TO%, Off FG%, Off 3pt%, Off FT Rate, %, Reb +/-, 3pt +/-]\n",
       "Index: []"
      ]
     },
     "execution_count": 14,
     "metadata": {},
     "output_type": "execute_result"
    }
   ],
   "source": [
    "#create datatable for this game, corresponding to Post Game Analytics\n",
    "columns = [\"Game\",\"Poss\", \"DER\", \"Def eFG%\", \"Def Reb%\", \"Def TO%\", \"Def FG%\", \"Def 3PT%\", \"Def FT RATE, %\", \"OER\", \"Off eFG%\", \"Off Reb%\", \"Off TO%\", \"Off FG%\", \"Off 3pt%\", \"Off FT Rate, %\", \"Reb +/-\", \"3pt +/-\"]\n",
    "analytics = pd.DataFrame([], columns=columns)\n",
    "analytics"
   ]
  },
  {
   "cell_type": "code",
   "execution_count": null,
   "id": "1fb7c257",
   "metadata": {},
   "outputs": [],
   "source": [
    "def x():\n",
    "    print('asdf')"
   ]
  },
  {
   "cell_type": "code",
   "execution_count": null,
   "id": "a761d05c",
   "metadata": {},
   "outputs": [],
   "source": []
  }
 ],
 "metadata": {
  "kernelspec": {
   "display_name": "Python 3 (ipykernel)",
   "language": "python",
   "name": "python3"
  },
  "language_info": {
   "codemirror_mode": {
    "name": "ipython",
    "version": 3
   },
   "file_extension": ".py",
   "mimetype": "text/x-python",
   "name": "python",
   "nbconvert_exporter": "python",
   "pygments_lexer": "ipython3",
   "version": "3.9.6"
  }
 },
 "nbformat": 4,
 "nbformat_minor": 5
}
