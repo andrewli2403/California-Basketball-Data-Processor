{
 "cells": [
  {
   "cell_type": "code",
   "execution_count": 41,
   "id": "3ea322b4",
   "metadata": {},
   "outputs": [],
   "source": [
    "import pandas as pd\n",
    "from utility_functions import processor\n",
    "from utility_functions import get_date\n",
    "\n",
    "##SPECIFCY HTML parser: \"html.parser\""
   ]
  },
  {
   "cell_type": "code",
   "execution_count": 42,
   "id": "3be5fe71",
   "metadata": {},
   "outputs": [
    {
     "data": {
      "text/html": [
       "<div>\n",
       "<style scoped>\n",
       "    .dataframe tbody tr th:only-of-type {\n",
       "        vertical-align: middle;\n",
       "    }\n",
       "\n",
       "    .dataframe tbody tr th {\n",
       "        vertical-align: top;\n",
       "    }\n",
       "\n",
       "    .dataframe thead th {\n",
       "        text-align: right;\n",
       "    }\n",
       "</style>\n",
       "<table border=\"1\" class=\"dataframe\">\n",
       "  <thead>\n",
       "    <tr style=\"text-align: right;\">\n",
       "      <th></th>\n",
       "      <th>Game</th>\n",
       "      <th>Poss</th>\n",
       "      <th>DER</th>\n",
       "      <th>Def eFG%</th>\n",
       "      <th>Def Reb%</th>\n",
       "      <th>Def TO%</th>\n",
       "      <th>Def FG%</th>\n",
       "      <th>Def 3PT%</th>\n",
       "      <th>Def FT RATE, %</th>\n",
       "      <th>OER</th>\n",
       "      <th>Off eFG%</th>\n",
       "      <th>Off Reb%</th>\n",
       "      <th>Off TO%</th>\n",
       "      <th>Off FG%</th>\n",
       "      <th>Off 3pt%</th>\n",
       "      <th>Off FT Rate, %</th>\n",
       "      <th>Reb +/-</th>\n",
       "      <th>3pt +/-</th>\n",
       "    </tr>\n",
       "  </thead>\n",
       "  <tbody>\n",
       "  </tbody>\n",
       "</table>\n",
       "</div>"
      ],
      "text/plain": [
       "Empty DataFrame\n",
       "Columns: [Game, Poss, DER, Def eFG%, Def Reb%, Def TO%, Def FG%, Def 3PT%, Def FT RATE, %, OER, Off eFG%, Off Reb%, Off TO%, Off FG%, Off 3pt%, Off FT Rate, %, Reb +/-, 3pt +/-]\n",
       "Index: []"
      ]
     },
     "execution_count": 42,
     "metadata": {},
     "output_type": "execute_result"
    }
   ],
   "source": [
    "#create datatable for this game, corresponding to Post Game Analytics\n",
    "columns = [\"Game\", \"Poss\", \"DER\", \"Def eFG%\", \"Def Reb%\", \"Def TO%\", \"Def FG%\", \"Def 3PT%\", \"Def FT RATE, %\", \"OER\", \"Off eFG%\", \"Off Reb%\", \"Off TO%\", \"Off FG%\", \"Off 3pt%\", \"Off FT Rate, %\", \"Reb +/-\", \"3pt +/-\"]\n",
    "df = pd.DataFrame([], columns=columns)\n",
    "df"
   ]
  },
  {
   "cell_type": "code",
   "execution_count": 43,
   "id": "a5bdb5a2",
   "metadata": {},
   "outputs": [],
   "source": [
    "game_ids = [401373623, 401372480]"
   ]
  },
  {
   "cell_type": "code",
   "execution_count": 44,
   "id": "ca6f5f12",
   "metadata": {},
   "outputs": [
    {
     "name": "stderr",
     "output_type": "stream",
     "text": [
      "/Users/Andrew/Desktop/CalBasketballData/utility_functions.py:10: GuessedAtParserWarning: No parser was explicitly specified, so I'm using the best available HTML parser for this system (\"html.parser\"). This usually isn't a problem, but if you run this code on another system, or in a different virtual environment, it may use a different parser and behave differently.\n",
      "\n",
      "The code that caused this warning is on line 10 of the file /Users/Andrew/Desktop/CalBasketballData/utility_functions.py. To get rid of this warning, pass the additional argument 'features=\"html.parser\"' to the BeautifulSoup constructor.\n",
      "\n",
      "  webpage = bs(r.content)\n"
     ]
    },
    {
     "data": {
      "text/html": [
       "<div>\n",
       "<style scoped>\n",
       "    .dataframe tbody tr th:only-of-type {\n",
       "        vertical-align: middle;\n",
       "    }\n",
       "\n",
       "    .dataframe tbody tr th {\n",
       "        vertical-align: top;\n",
       "    }\n",
       "\n",
       "    .dataframe thead th {\n",
       "        text-align: right;\n",
       "    }\n",
       "</style>\n",
       "<table border=\"1\" class=\"dataframe\">\n",
       "  <thead>\n",
       "    <tr style=\"text-align: right;\">\n",
       "      <th></th>\n",
       "      <th>Game</th>\n",
       "      <th>Poss</th>\n",
       "      <th>DER</th>\n",
       "      <th>Def eFG%</th>\n",
       "      <th>Def Reb%</th>\n",
       "      <th>Def TO%</th>\n",
       "      <th>Def FG%</th>\n",
       "      <th>Def 3PT%</th>\n",
       "      <th>Def FT RATE, %</th>\n",
       "      <th>OER</th>\n",
       "      <th>Off eFG%</th>\n",
       "      <th>Off Reb%</th>\n",
       "      <th>Off TO%</th>\n",
       "      <th>Off FG%</th>\n",
       "      <th>Off 3pt%</th>\n",
       "      <th>Off FT Rate, %</th>\n",
       "      <th>Reb +/-</th>\n",
       "      <th>3pt +/-</th>\n",
       "    </tr>\n",
       "  </thead>\n",
       "  <tbody>\n",
       "    <tr>\n",
       "      <th>0</th>\n",
       "      <td>UCSD</td>\n",
       "      <td>72.4</td>\n",
       "      <td>1.104972</td>\n",
       "      <td>63.043478</td>\n",
       "      <td>95.454545</td>\n",
       "      <td>17.955801</td>\n",
       "      <td>52.200001</td>\n",
       "      <td>45.5</td>\n",
       "      <td>[60.869565217391305, 78.57142857142857]</td>\n",
       "      <td>0.925414</td>\n",
       "      <td>44.166667</td>\n",
       "      <td>25.641026</td>\n",
       "      <td>15.19337</td>\n",
       "      <td>40.0</td>\n",
       "      <td>27.799999</td>\n",
       "      <td>[40.0, 58.333333333333336]</td>\n",
       "      <td>+1.0</td>\n",
       "      <td>-5.0</td>\n",
       "    </tr>\n",
       "  </tbody>\n",
       "</table>\n",
       "</div>"
      ],
      "text/plain": [
       "   Game  Poss       DER   Def eFG%   Def Reb%    Def TO%    Def FG%  Def 3PT%  \\\n",
       "0  UCSD  72.4  1.104972  63.043478  95.454545  17.955801  52.200001      45.5   \n",
       "\n",
       "                            Def FT RATE, %       OER   Off eFG%   Off Reb%  \\\n",
       "0  [60.869565217391305, 78.57142857142857]  0.925414  44.166667  25.641026   \n",
       "\n",
       "    Off TO%  Off FG%   Off 3pt%              Off FT Rate, % Reb +/- 3pt +/-  \n",
       "0  15.19337     40.0  27.799999  [40.0, 58.333333333333336]    +1.0    -5.0  "
      ]
     },
     "execution_count": 44,
     "metadata": {},
     "output_type": "execute_result"
    }
   ],
   "source": [
    "game = pd.Series(processor(401373623), index=df.columns)\n",
    "df = df.append(game,ignore_index=True)\n",
    "df"
   ]
  },
  {
   "cell_type": "code",
   "execution_count": 40,
   "id": "778e3d83",
   "metadata": {},
   "outputs": [
    {
     "name": "stdout",
     "output_type": "stream",
     "text": [
      "2\n"
     ]
    }
   ],
   "source": [
    "\n"
   ]
  },
  {
   "cell_type": "code",
   "execution_count": null,
   "id": "d1660fa3",
   "metadata": {},
   "outputs": [],
   "source": []
  }
 ],
 "metadata": {
  "kernelspec": {
   "display_name": "Python 3 (ipykernel)",
   "language": "python",
   "name": "python3"
  },
  "language_info": {
   "codemirror_mode": {
    "name": "ipython",
    "version": 3
   },
   "file_extension": ".py",
   "mimetype": "text/x-python",
   "name": "python",
   "nbconvert_exporter": "python",
   "pygments_lexer": "ipython3",
   "version": "3.9.6"
  }
 },
 "nbformat": 4,
 "nbformat_minor": 5
}
