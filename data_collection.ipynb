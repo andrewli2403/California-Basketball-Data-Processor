{
 "cells": [
  {
   "cell_type": "code",
   "execution_count": 1,
   "id": "15d2f8eb",
   "metadata": {},
   "outputs": [],
   "source": [
    "import pandas as pd\n",
    "from utility_functions import *\n",
    "import pickle\n",
    "import sys"
   ]
  },
  {
   "cell_type": "code",
   "execution_count": 2,
   "id": "f3bf1fe8",
   "metadata": {},
   "outputs": [],
   "source": [
    "limit = sys.getrecursionlimit()\n",
    "Newlimit = 10000\n",
    "limit = sys.setrecursionlimit(Newlimit)"
   ]
  },
  {
   "cell_type": "code",
   "execution_count": 3,
   "id": "2f4805fe",
   "metadata": {},
   "outputs": [],
   "source": [
    "#create datatable for this game, corresponding to Post Game Analytics\n",
    "columns = [\"Game\", \"Poss\", \"DER\", \"Def eFG%\", \"Def Reb%\", \"Def TO%\", \"Def FG%\", \"Def 3PT%\", \"Def FT RATE, %\", \"OER\", \"Off eFG%\", \"Off Reb%\", \"Off TO%\", \"Off FG%\", \"Off 3pt%\", \"Off FT Rate, %\", \"Reb +/-\", \"3pt +/-\"]\n",
    "df = pd.DataFrame([], columns=columns)"
   ]
  },
  {
   "cell_type": "code",
   "execution_count": 4,
   "id": "eb2170c1",
   "metadata": {},
   "outputs": [],
   "source": [
    "#game_ids = iter([401373623, 401372480])\n",
    "game_ids = [401373623, 401372480]\n",
    "dates = []"
   ]
  },
  {
   "cell_type": "code",
   "execution_count": 5,
   "id": "9f3ea554",
   "metadata": {},
   "outputs": [
    {
     "name": "stderr",
     "output_type": "stream",
     "text": [
      "/Users/Andrew/Desktop/CalBasketballData/utility_functions.py:10: GuessedAtParserWarning: No parser was explicitly specified, so I'm using the best available HTML parser for this system (\"html.parser\"). This usually isn't a problem, but if you run this code on another system, or in a different virtual environment, it may use a different parser and behave differently.\n",
      "\n",
      "The code that caused this warning is on line 10 of the file /Users/Andrew/Desktop/CalBasketballData/utility_functions.py. To get rid of this warning, pass the additional argument 'features=\"html.parser\"' to the BeautifulSoup constructor.\n",
      "\n",
      "  webpage = bs(r.content)\n"
     ]
    },
    {
     "data": {
      "text/html": [
       "<div>\n",
       "<style scoped>\n",
       "    .dataframe tbody tr th:only-of-type {\n",
       "        vertical-align: middle;\n",
       "    }\n",
       "\n",
       "    .dataframe tbody tr th {\n",
       "        vertical-align: top;\n",
       "    }\n",
       "\n",
       "    .dataframe thead th {\n",
       "        text-align: right;\n",
       "    }\n",
       "</style>\n",
       "<table border=\"1\" class=\"dataframe\">\n",
       "  <thead>\n",
       "    <tr style=\"text-align: right;\">\n",
       "      <th></th>\n",
       "      <th>Game</th>\n",
       "      <th>Poss</th>\n",
       "      <th>DER</th>\n",
       "      <th>Def eFG%</th>\n",
       "      <th>Def Reb%</th>\n",
       "      <th>Def TO%</th>\n",
       "      <th>Def FG%</th>\n",
       "      <th>Def 3PT%</th>\n",
       "      <th>Def FT RATE, %</th>\n",
       "      <th>OER</th>\n",
       "      <th>Off eFG%</th>\n",
       "      <th>Off Reb%</th>\n",
       "      <th>Off TO%</th>\n",
       "      <th>Off FG%</th>\n",
       "      <th>Off 3pt%</th>\n",
       "      <th>Off FT Rate, %</th>\n",
       "      <th>Reb +/-</th>\n",
       "      <th>3pt +/-</th>\n",
       "    </tr>\n",
       "  </thead>\n",
       "  <tbody>\n",
       "    <tr>\n",
       "      <th>0</th>\n",
       "      <td>UCSD</td>\n",
       "      <td>72.40</td>\n",
       "      <td>1.104972</td>\n",
       "      <td>63.043478</td>\n",
       "      <td>95.454545</td>\n",
       "      <td>17.955801</td>\n",
       "      <td>52.200001</td>\n",
       "      <td>45.5</td>\n",
       "      <td>(60.869565217391305, 78.57142857142857)</td>\n",
       "      <td>0.925414</td>\n",
       "      <td>44.166667</td>\n",
       "      <td>25.641026</td>\n",
       "      <td>15.193370</td>\n",
       "      <td>40.000000</td>\n",
       "      <td>27.799999</td>\n",
       "      <td>(40.0, 58.333333333333336)</td>\n",
       "      <td>+1.0</td>\n",
       "      <td>-5.0</td>\n",
       "    </tr>\n",
       "    <tr>\n",
       "      <th>1</th>\n",
       "      <td>UNLV</td>\n",
       "      <td>60.85</td>\n",
       "      <td>0.903862</td>\n",
       "      <td>46.428571</td>\n",
       "      <td>78.378378</td>\n",
       "      <td>21.364010</td>\n",
       "      <td>37.500000</td>\n",
       "      <td>34.5</td>\n",
       "      <td>(8.928571428571429, 60.0)</td>\n",
       "      <td>0.854560</td>\n",
       "      <td>40.350877</td>\n",
       "      <td>25.000000</td>\n",
       "      <td>16.433854</td>\n",
       "      <td>36.799999</td>\n",
       "      <td>28.600000</td>\n",
       "      <td>(10.526315789473685, 100.0)</td>\n",
       "      <td>+3.0</td>\n",
       "      <td>-6.0</td>\n",
       "    </tr>\n",
       "  </tbody>\n",
       "</table>\n",
       "</div>"
      ],
      "text/plain": [
       "   Game   Poss       DER   Def eFG%   Def Reb%    Def TO%    Def FG%  \\\n",
       "0  UCSD  72.40  1.104972  63.043478  95.454545  17.955801  52.200001   \n",
       "1  UNLV  60.85  0.903862  46.428571  78.378378  21.364010  37.500000   \n",
       "\n",
       "   Def 3PT%                           Def FT RATE, %       OER   Off eFG%  \\\n",
       "0      45.5  (60.869565217391305, 78.57142857142857)  0.925414  44.166667   \n",
       "1      34.5                (8.928571428571429, 60.0)  0.854560  40.350877   \n",
       "\n",
       "    Off Reb%    Off TO%    Off FG%   Off 3pt%               Off FT Rate, %  \\\n",
       "0  25.641026  15.193370  40.000000  27.799999   (40.0, 58.333333333333336)   \n",
       "1  25.000000  16.433854  36.799999  28.600000  (10.526315789473685, 100.0)   \n",
       "\n",
       "  Reb +/- 3pt +/-  \n",
       "0    +1.0    -5.0  \n",
       "1    +3.0    -6.0  "
      ]
     },
     "execution_count": 5,
     "metadata": {},
     "output_type": "execute_result"
    }
   ],
   "source": [
    "game = pd.Series(processor(401373623), index=df.columns)\n",
    "df = df.append(game,ignore_index=True)\n",
    "x = pd.Series(processor(401372480), index=df.columns)\n",
    "\n",
    "df = df.append(x, ignore_index=True)\n",
    "df"
   ]
  },
  {
   "cell_type": "code",
   "execution_count": 6,
   "id": "a49551f1",
   "metadata": {},
   "outputs": [],
   "source": [
    "df = df.apply(lambda row: clean(row), axis=0)"
   ]
  },
  {
   "cell_type": "code",
   "execution_count": 7,
   "id": "57a83128",
   "metadata": {},
   "outputs": [],
   "source": [
    "df.index = [\"game 1\", \"game 2\"]\n"
   ]
  },
  {
   "cell_type": "code",
   "execution_count": 8,
   "id": "bcb28c45",
   "metadata": {},
   "outputs": [],
   "source": [
    "#pickle df object\n",
    "with open('pickledata.p', 'wb') as fh:\n",
    "    pickle.dump(df, fh)"
   ]
  }
 ],
 "metadata": {
  "kernelspec": {
   "display_name": "Python 3 (ipykernel)",
   "language": "python",
   "name": "python3"
  },
  "language_info": {
   "codemirror_mode": {
    "name": "ipython",
    "version": 3
   },
   "file_extension": ".py",
   "mimetype": "text/x-python",
   "name": "python",
   "nbconvert_exporter": "python",
   "pygments_lexer": "ipython3",
   "version": "3.9.6"
  }
 },
 "nbformat": 4,
 "nbformat_minor": 5
}
